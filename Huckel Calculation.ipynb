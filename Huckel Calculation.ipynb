{
 "cells": [
  {
   "cell_type": "code",
   "execution_count": 21,
   "metadata": {},
   "outputs": [
    {
     "name": "stdout",
     "output_type": "stream",
     "text": [
      "Huckel Calculation\n"
     ]
    }
   ],
   "source": [
    "print('Huckel Calculation')\n",
    "\n",
    "#make a program that calculates effective hamiltonians for a conjugated molecule input\n",
    "\n",
    "\n",
    "#want to input a .mol file and output the energy of MOs"
   ]
  },
  {
   "cell_type": "code",
   "execution_count": null,
   "metadata": {},
   "outputs": [],
   "source": [
    "import numpy as np\n",
    "import sympy as sym #might not even need -- only for talking about what you're doing\n",
    "import scipy as sp\n",
    "from sp.linalg import circulant"
   ]
  },
  {
   "cell_type": "code",
   "execution_count": null,
   "metadata": {},
   "outputs": [],
   "source": [
    "sym.init_printing()\n",
    "#To do Huckel Calculations:"
   ]
  },
  {
   "cell_type": "code",
   "execution_count": null,
   "metadata": {},
   "outputs": [],
   "source": [
    "\n",
    "#define the wavefunctions for each of the necessary orbitals\n",
    "#make sure not to just x=whatxequals, but actually define functions for each\n",
    "\n",
    "\n",
    "#is this even necessary? \n",
    "\n",
    "#input of a connectivity matrix \n",
    "\n",
    "#diagonalize with NumPy\n",
    "\n",
    "#calculate with NumPy \n",
    "\n",
    "#the order of the HMO secular determinant equals the number of conjugated atoms\n",
    "\n"
   ]
  },
  {
   "cell_type": "code",
   "execution_count": null,
   "metadata": {},
   "outputs": [],
   "source": [
    "#input a connectivity matrix for the conjugated atoms:\n",
    "class working(self):\n",
    "    \n",
    "    #cyclopentane\n",
    "    \n",
    "    def input(self):\n",
    "\n",
    "        self.molecule = np.array(\"\"\"\n",
    "            0 1 0 0 1;\n",
    "            1 0 1 0 0;\n",
    "            0 1 0 1 0;\n",
    "            0 0 1 0 1;\n",
    "            1 0 0 1 0\n",
    "            \"\"\")\n"
   ]
  },
  {
   "cell_type": "code",
   "execution_count": null,
   "metadata": {},
   "outputs": [],
   "source": [
    "class(secular)\n",
    "\n",
    "    #alpha is the hamiltonian for all of the atoms in the conjugated system\n",
    "    def alpha(?)\n",
    "        if C_db return \n",
    "        if \n",
    "        if\n",
    "        if\n",
    "\n",
    "    def beta(?)\n",
    "        \n",
    "    \n",
    "    def x(alpha,beta,E)\n",
    "        return ((alpha-E)/beta)\n",
    "\n",
    "    def secular_determinant(x)\n",
    "        return np.array(n,n)\n",
    "    #n is the dimension of the secular array = to # carbons\n",
    "    "
   ]
  },
  {
   "cell_type": "code",
   "execution_count": null,
   "metadata": {},
   "outputs": [],
   "source": [
    "#with a defined array, solve for eigenvalues and eigenvectors with:\n",
    "\n",
    "#\"evals, evecs = eig(A)\" where A is the array\n",
    "\n",
    "#solve for the circulant with \"scipy.linalg.circulant\"\n",
    "from sp.linalg import circulant\n",
    "\n",
    "circulant([1,2,0])"
   ]
  },
  {
   "cell_type": "code",
   "execution_count": null,
   "metadata": {},
   "outputs": [],
   "source": []
  },
  {
   "cell_type": "code",
   "execution_count": 13,
   "metadata": {},
   "outputs": [],
   "source": [
    "#each pi orbital contributes one pi electron"
   ]
  },
  {
   "cell_type": "code",
   "execution_count": 30,
   "metadata": {},
   "outputs": [],
   "source": [
    "file= open(\"ethene.mol\")\n",
    "lines = file.readlines()"
   ]
  },
  {
   "cell_type": "code",
   "execution_count": 31,
   "metadata": {
    "scrolled": true
   },
   "outputs": [
    {
     "name": "stdout",
     "output_type": "stream",
     "text": [
      "\n",
      " OpenBabel11081917263D\n",
      "\n",
      "  6  5  0  0  0  0  0  0  0  0999 V2000\n",
      "   -5.9703    0.8433   -0.0000 C   0  0  0  0  0  0  0  0  0  0  0  0\n",
      "   -4.6459    0.8278    0.0000 C   0  0  0  0  0  0  0  0  0  0  0  0\n",
      "   -6.5339    0.7340    0.9233 H   0  0  0  0  0  0  0  0  0  0  0  0\n",
      "   -6.5312    0.9658   -0.9233 H   0  0  0  0  0  0  0  0  0  0  0  0\n",
      "   -4.0849    0.7053    0.9233 H   0  0  0  0  0  0  0  0  0  0  0  0\n",
      "   -4.0822    0.9371   -0.9233 H   0  0  0  0  0  0  0  0  0  0  0  0\n",
      "  1  2  2  0  0  0  0\n",
      "  1  3  1  0  0  0  0\n",
      "  1  4  1  0  0  0  0\n",
      "  2  5  1  0  0  0  0\n",
      "  2  6  1  0  0  0  0\n",
      "M  END\n",
      "\n",
      "16\n"
     ]
    }
   ],
   "source": [
    "file = open('ethene.mol')\n",
    "print file.read()\n",
    "print len(lines)"
   ]
  },
  {
   "cell_type": "code",
   "execution_count": 88,
   "metadata": {},
   "outputs": [],
   "source": [
    "import csv"
   ]
  },
  {
   "cell_type": "code",
   "execution_count": 89,
   "metadata": {},
   "outputs": [],
   "source": [
    "ethene_csv = csv.writer(open('ethene.csv', 'wb'))"
   ]
  },
  {
   "cell_type": "code",
   "execution_count": 94,
   "metadata": {},
   "outputs": [],
   "source": [
    "ethene_csv.writerow(['x', 'y', 'z', 'atom'])"
   ]
  },
  {
   "cell_type": "code",
   "execution_count": 11,
   "metadata": {},
   "outputs": [
    {
     "name": "stdout",
     "output_type": "stream",
     "text": [
      "1\n"
     ]
    }
   ],
   "source": [
    "print len(\"C\")"
   ]
  },
  {
   "cell_type": "code",
   "execution_count": null,
   "metadata": {},
   "outputs": [],
   "source": []
  }
 ],
 "metadata": {
  "kernelspec": {
   "display_name": "Python 2",
   "language": "python",
   "name": "python2"
  },
  "language_info": {
   "codemirror_mode": {
    "name": "ipython",
    "version": 2
   },
   "file_extension": ".py",
   "mimetype": "text/x-python",
   "name": "python",
   "nbconvert_exporter": "python",
   "pygments_lexer": "ipython2",
   "version": "2.7.16"
  }
 },
 "nbformat": 4,
 "nbformat_minor": 2
}
