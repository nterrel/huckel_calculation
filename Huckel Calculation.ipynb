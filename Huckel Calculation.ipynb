{
 "cells": [
  {
   "cell_type": "code",
   "execution_count": 21,
   "metadata": {},
   "outputs": [
    {
     "name": "stdout",
     "output_type": "stream",
     "text": [
      "Huckel Calculation\n"
     ]
    }
   ],
   "source": [
    "print('Huckel Calculation')\n",
    "\n",
    "#make a program that calculates effective hamiltonians for a conjugated molecule input\n",
    "\n",
    "\n",
    "#want to input a .mol file and output the energy of MOs"
   ]
  },
  {
   "cell_type": "code",
   "execution_count": 22,
   "metadata": {},
   "outputs": [],
   "source": [
    "import numpy as np\n",
    "import sympy as sym #might not even need -- only for talking about what you're doing\n",
    "\n",
    "\n",
    "#import pybel"
   ]
  },
  {
   "cell_type": "code",
   "execution_count": 23,
   "metadata": {},
   "outputs": [],
   "source": [
    "sym.init_printing()\n",
    "#To do Huckel Calculations:"
   ]
  },
  {
   "cell_type": "code",
   "execution_count": 11,
   "metadata": {},
   "outputs": [],
   "source": [
    "\n",
    "#define the wavefunctions for each of the necessary orbitals\n",
    "#make sure not to just x=whatxequals, but actually define functions for each\n",
    "\n",
    "\n",
    "#is this even necessary? \n",
    "\n",
    "#input matrix\n",
    "\n",
    "#HOW TO INTERPRET? ----- OpenBabel\n",
    "\n",
    "#diagonalize with NumPy\n",
    "\n",
    "#calculate with NumPy "
   ]
  },
  {
   "cell_type": "code",
   "execution_count": 83,
   "metadata": {},
   "outputs": [
    {
     "ename": "SyntaxError",
     "evalue": "invalid syntax (<ipython-input-83-80db2c5e1f1e>, line 2)",
     "output_type": "error",
     "traceback": [
      "\u001b[0;36m  File \u001b[0;32m\"<ipython-input-83-80db2c5e1f1e>\"\u001b[0;36m, line \u001b[0;32m2\u001b[0m\n\u001b[0;31m    def alpha(?)\u001b[0m\n\u001b[0m              ^\u001b[0m\n\u001b[0;31mSyntaxError\u001b[0m\u001b[0;31m:\u001b[0m invalid syntax\n"
     ]
    }
   ],
   "source": [
    "#alpha is the hamiltonian for \n",
    "def alpha(?)\n",
    "    return \n",
    "\n",
    "def beta(?)\n",
    "    \n",
    "    \n",
    "def x(alpha,beta)\n",
    "    return ((alpha-E)/beta)\n"
   ]
  },
  {
   "cell_type": "code",
   "execution_count": 14,
   "metadata": {},
   "outputs": [
    {
     "data": {
      "text/plain": [
       "array([], dtype=[])"
      ]
     },
     "execution_count": 14,
     "metadata": {},
     "output_type": "execute_result"
    }
   ],
   "source": [
    "det=np.array([],[])\n",
    "det"
   ]
  },
  {
   "cell_type": "code",
   "execution_count": 11,
   "metadata": {},
   "outputs": [],
   "source": [
    "#with a defined array, solve for eigenvalues and eigenvectors with:\n",
    "\n",
    "#\"evals, evecs = eig(A)\" where A is the array\n"
   ]
  },
  {
   "cell_type": "code",
   "execution_count": 55,
   "metadata": {
    "scrolled": true
   },
   "outputs": [
    {
     "data": {
      "text/plain": [
       "u'/Users/nickterrel/Jupyter'"
      ]
     },
     "execution_count": 55,
     "metadata": {},
     "output_type": "execute_result"
    }
   ],
   "source": [
    "pwd"
   ]
  },
  {
   "cell_type": "code",
   "execution_count": null,
   "metadata": {},
   "outputs": [],
   "source": []
  },
  {
   "cell_type": "code",
   "execution_count": 121,
   "metadata": {},
   "outputs": [
    {
     "name": "stdout",
     "output_type": "stream",
     "text": [
      "\n",
      " OpenBabel11081917263D\n",
      "\n",
      "  6  5  0  0  0  0  0  0  0  0999 V2000\n",
      "   -5.9703    0.8433   -0.0000 C   0  0  0  0  0  0  0  0  0  0  0  0\n",
      "   -4.6459    0.8278    0.0000 C   0  0  0  0  0  0  0  0  0  0  0  0\n",
      "   -6.5339    0.7340    0.9233 H   0  0  0  0  0  0  0  0  0  0  0  0\n",
      "   -6.5312    0.9658   -0.9233 H   0  0  0  0  0  0  0  0  0  0  0  0\n",
      "   -4.0849    0.7053    0.9233 H   0  0  0  0  0  0  0  0  0  0  0  0\n",
      "   -4.0822    0.9371   -0.9233 H   0  0  0  0  0  0  0  0  0  0  0  0\n",
      "  1  2  2  0  0  0  0\n",
      "  1  3  1  0  0  0  0\n",
      "  1  4  1  0  0  0  0\n",
      "  2  5  1  0  0  0  0\n",
      "  2  6  1  0  0  0  0\n",
      "M  END\n",
      "\n",
      "0\n"
     ]
    }
   ],
   "source": [
    "file= open(\"ethene.mol\")\n",
    "print file.read()\n",
    "lines = file.readlines()\n",
    "print len(lines)"
   ]
  },
  {
   "cell_type": "code",
   "execution_count": 114,
   "metadata": {},
   "outputs": [],
   "source": [
    "lines = file.readlines()\n"
   ]
  },
  {
   "cell_type": "code",
   "execution_count": 117,
   "metadata": {},
   "outputs": [
    {
     "name": "stdout",
     "output_type": "stream",
     "text": [
      "0\n"
     ]
    }
   ],
   "source": [
    "print len(lines)"
   ]
  },
  {
   "cell_type": "code",
   "execution_count": 88,
   "metadata": {},
   "outputs": [],
   "source": [
    "import csv"
   ]
  },
  {
   "cell_type": "code",
   "execution_count": 89,
   "metadata": {},
   "outputs": [],
   "source": [
    "ethene_csv = csv.writer(open('ethene.csv', 'wb'))"
   ]
  },
  {
   "cell_type": "code",
   "execution_count": 94,
   "metadata": {},
   "outputs": [],
   "source": [
    "ethene_csv.writerow(['x', 'y', 'z', 'atom'])"
   ]
  },
  {
   "cell_type": "code",
   "execution_count": 124,
   "metadata": {},
   "outputs": [
    {
     "ename": "TypeError",
     "evalue": "Required argument 'object' (pos 1) not found",
     "output_type": "error",
     "traceback": [
      "\u001b[0;31m---------------------------------------------------------------------------\u001b[0m",
      "\u001b[0;31mTypeError\u001b[0m                                 Traceback (most recent call last)",
      "\u001b[0;32m<ipython-input-124-e4f3b47dc252>\u001b[0m in \u001b[0;36m<module>\u001b[0;34m()\u001b[0m\n\u001b[0;32m----> 1\u001b[0;31m \u001b[0mnp\u001b[0m\u001b[0;34m.\u001b[0m\u001b[0marray\u001b[0m\u001b[0;34m(\u001b[0m\u001b[0;34m)\u001b[0m\u001b[0;34m\u001b[0m\u001b[0m\n\u001b[0m",
      "\u001b[0;31mTypeError\u001b[0m: Required argument 'object' (pos 1) not found"
     ]
    }
   ],
   "source": [
    "np.array()"
   ]
  },
  {
   "cell_type": "code",
   "execution_count": null,
   "metadata": {},
   "outputs": [],
   "source": []
  }
 ],
 "metadata": {
  "kernelspec": {
   "display_name": "Python 2",
   "language": "python",
   "name": "python2"
  },
  "language_info": {
   "codemirror_mode": {
    "name": "ipython",
    "version": 2
   },
   "file_extension": ".py",
   "mimetype": "text/x-python",
   "name": "python",
   "nbconvert_exporter": "python",
   "pygments_lexer": "ipython2",
   "version": "2.7.16"
  }
 },
 "nbformat": 4,
 "nbformat_minor": 2
}
