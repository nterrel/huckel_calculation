{
 "cells": [
  {
   "cell_type": "markdown",
   "metadata": {},
   "source": [
    "\n",
    "# Simple Huckel Calculation\n"
   ]
  },
  {
   "cell_type": "code",
   "execution_count": 321,
   "metadata": {
    "scrolled": true
   },
   "outputs": [],
   "source": [
    "\n",
    "#make a program that calculates effective hamiltonians for a conjugated molecule input\n",
    "\n",
    "\n",
    "#want to input a .xyz file and output energy values\n",
    "    #first part is a success\n",
    "\n",
    "#C-C ~ 1.54 A, C=C ~ 1.34 A\n",
    "#C-H ~ 1.09 A"
   ]
  },
  {
   "cell_type": "code",
   "execution_count": 298,
   "metadata": {},
   "outputs": [],
   "source": [
    "import numpy as np\n",
    "import sympy as sym #might not even need -- only for talking about what you're doing\n",
    "import pandas as pd\n",
    "import scipy.spatial as sp\n",
    "from PyQuante import *"
   ]
  },
  {
   "cell_type": "code",
   "execution_count": 318,
   "metadata": {
    "scrolled": false
   },
   "outputs": [
    {
     "name": "stdout",
     "output_type": "stream",
     "text": [
      "[['C' '-1.3551' '2.0086' '-6.1751']\n",
      " ['C' '-1.9456' '0.8077' '-5.7669']\n",
      " ['C' '-1.7261' '0.3249' '-4.4723']\n",
      " ['C' '-0.9162' '1.0429' '-3.5859']\n",
      " ['C' '-0.5452' '2.7266' '-5.2886']\n",
      " ['C' '-0.3258' '2.2438' '-3.994']\n",
      " ['H' '-0.0884' '3.6557' '-5.6044']\n",
      " ['H' '-1.5249' '2.3822' '-7.1766']\n",
      " ['H' '-0.7464' '0.6693' '-2.5843']\n",
      " ['H' '0.3008' '2.7993' '-3.3082']\n",
      " ['H' '-2.5721' '0.2523' '-6.4527']\n",
      " ['H' '-2.1829' '-0.6041' '-4.1566']]\n"
     ]
    }
   ],
   "source": [
    "atoms = []\n",
    "xyz = []\n",
    "coordinates = []\n",
    "\n",
    "#input a .xyz file of any conjugated organic molecule here:\n",
    "    #replace 'benzene.xyz' with desired .xyz file\n",
    "\n",
    "with open('benzene.xyz', 'r') as input:\n",
    "    text = input.readlines()\n",
    "    number_of_atoms = int(text[0].split()[0])\n",
    "    for i in range(2,len(text)):\n",
    "        (atom,x,y,z) = text[i].split()\n",
    "        atoms.append(atom)\n",
    "        xyz.append([atom,float(x),float(y),float(z)])\n",
    "\n",
    "        \n",
    "#replace 'benzene' with name of desired molecule here:\n",
    "benzene = np.array(xyz)\n",
    "print(benzene)\n",
    "\n",
    "#this outputs the xyz coordinates of each atom"
   ]
  },
  {
   "cell_type": "code",
   "execution_count": 300,
   "metadata": {
    "scrolled": true
   },
   "outputs": [
    {
     "name": "stdout",
     "output_type": "stream",
     "text": [
      "[['6' '-1.3551' '2.0086' '-6.1751']\n",
      " ['6' '-1.9456' '0.8077' '-5.7669']\n",
      " ['6' '-1.7261' '0.3249' '-4.4723']\n",
      " ['6' '-0.9162' '1.0429' '-3.5859']\n",
      " ['6' '-0.5452' '2.7266' '-5.2886']\n",
      " ['6' '-0.3258' '2.2438' '-3.994']\n",
      " ['1' '-0.0884' '3.6557' '-5.6044']\n",
      " ['1' '-1.5249' '2.3822' '-7.1766']\n",
      " ['1' '-0.7464' '0.6693' '-2.5843']\n",
      " ['1' '0.3008' '2.7993' '-3.3082']\n",
      " ['1' '-2.5721' '0.2523' '-6.4527']\n",
      " ['1' '-2.1829' '-0.6041' '-4.1566']]\n"
     ]
    }
   ],
   "source": [
    "#need to replace the labels in row 1 with atomic numbers\n",
    "\n",
    "benzene[benzene == 'C'] = 6\n",
    "benzene[benzene == 'H'] = 1\n",
    "print(benzene)"
   ]
  },
  {
   "cell_type": "code",
   "execution_count": 301,
   "metadata": {},
   "outputs": [
    {
     "ename": "AttributeError",
     "evalue": "'numpy.ndarray' object has no attribute 'atno'",
     "output_type": "error",
     "traceback": [
      "\u001b[0;31m---------------------------------------------------------------------------\u001b[0m",
      "\u001b[0;31mAttributeError\u001b[0m                            Traceback (most recent call last)",
      "\u001b[0;32m<ipython-input-301-146af928ab0f>\u001b[0m in \u001b[0;36m<module>\u001b[0;34m()\u001b[0m\n\u001b[1;32m      3\u001b[0m \u001b[0;34m\u001b[0m\u001b[0m\n\u001b[1;32m      4\u001b[0m \u001b[0mbs\u001b[0m\u001b[0;34m=\u001b[0m\u001b[0;34m'STO-3G'\u001b[0m\u001b[0;34m\u001b[0m\u001b[0m\n\u001b[0;32m----> 5\u001b[0;31m \u001b[0mbfs\u001b[0m \u001b[0;34m=\u001b[0m \u001b[0mgetbasis\u001b[0m\u001b[0;34m(\u001b[0m\u001b[0mbenzene\u001b[0m\u001b[0;34m,\u001b[0m\u001b[0mbasis_data\u001b[0m\u001b[0;34m=\u001b[0m\u001b[0mbs\u001b[0m\u001b[0;34m)\u001b[0m\u001b[0;34m\u001b[0m\u001b[0m\n\u001b[0m\u001b[1;32m      6\u001b[0m \u001b[0;31m#P = getS(bfs) --- don't need this part (overlap integrals)\u001b[0m\u001b[0;34m\u001b[0m\u001b[0;34m\u001b[0m\u001b[0m\n\u001b[1;32m      7\u001b[0m \u001b[0;34m\u001b[0m\u001b[0m\n",
      "\u001b[0;32m/Users/nickterrel/anaconda2/lib/python2.7/site-packages/PyQuante/Ints.pyc\u001b[0m in \u001b[0;36mgetbasis\u001b[0;34m(atoms, basis_data, **kwargs)\u001b[0m\n\u001b[1;32m     46\u001b[0m         \u001b[0;32mif\u001b[0m \u001b[0mbasis\u001b[0m\u001b[0;34m:\u001b[0m\u001b[0;34m\u001b[0m\u001b[0m\n\u001b[1;32m     47\u001b[0m             \u001b[0mbasis_data\u001b[0m \u001b[0;34m=\u001b[0m \u001b[0mget_basis_data\u001b[0m\u001b[0;34m(\u001b[0m\u001b[0mbasis\u001b[0m\u001b[0;34m)\u001b[0m\u001b[0;34m\u001b[0m\u001b[0m\n\u001b[0;32m---> 48\u001b[0;31m     \u001b[0;32mreturn\u001b[0m \u001b[0mBasisSet\u001b[0m\u001b[0;34m(\u001b[0m\u001b[0matoms\u001b[0m\u001b[0;34m,\u001b[0m \u001b[0mbasis_data\u001b[0m\u001b[0;34m,\u001b[0m \u001b[0;34m**\u001b[0m\u001b[0mkwargs\u001b[0m\u001b[0;34m)\u001b[0m\u001b[0;34m\u001b[0m\u001b[0m\n\u001b[0m\u001b[1;32m     49\u001b[0m \u001b[0;34m\u001b[0m\u001b[0m\n\u001b[1;32m     50\u001b[0m \u001b[0;32mdef\u001b[0m \u001b[0mgetints\u001b[0m\u001b[0;34m(\u001b[0m\u001b[0mbfs\u001b[0m\u001b[0;34m,\u001b[0m\u001b[0matoms\u001b[0m\u001b[0;34m,\u001b[0m\u001b[0;34m**\u001b[0m\u001b[0mkwargs\u001b[0m\u001b[0;34m)\u001b[0m\u001b[0;34m:\u001b[0m\u001b[0;34m\u001b[0m\u001b[0m\n",
      "\u001b[0;32m/Users/nickterrel/anaconda2/lib/python2.7/site-packages/PyQuante/Basis/basis.pyc\u001b[0m in \u001b[0;36m__init__\u001b[0;34m(self, atoms, basis_data, **kwargs)\u001b[0m\n\u001b[1;32m     26\u001b[0m         \u001b[0mshells\u001b[0m \u001b[0;34m=\u001b[0m \u001b[0;34m[\u001b[0m\u001b[0;34m]\u001b[0m\u001b[0;31m# Shell list\u001b[0m\u001b[0;34m\u001b[0m\u001b[0m\n\u001b[1;32m     27\u001b[0m         \u001b[0;32mfor\u001b[0m \u001b[0matom\u001b[0m \u001b[0;32min\u001b[0m \u001b[0matoms\u001b[0m\u001b[0;34m:\u001b[0m\u001b[0;34m\u001b[0m\u001b[0m\n\u001b[0;32m---> 28\u001b[0;31m             \u001b[0mbs\u001b[0m \u001b[0;34m=\u001b[0m \u001b[0mbasis_data\u001b[0m\u001b[0;34m[\u001b[0m\u001b[0matom\u001b[0m\u001b[0;34m.\u001b[0m\u001b[0matno\u001b[0m\u001b[0;34m]\u001b[0m\u001b[0;34m\u001b[0m\u001b[0m\n\u001b[0m\u001b[1;32m     29\u001b[0m             \u001b[0;32mfor\u001b[0m \u001b[0msym\u001b[0m\u001b[0;34m,\u001b[0m\u001b[0mprims\u001b[0m \u001b[0;32min\u001b[0m \u001b[0mbs\u001b[0m\u001b[0;34m:\u001b[0m \u001b[0;31m# Shell Symbol S,P,D,F\u001b[0m\u001b[0;34m\u001b[0m\u001b[0m\n\u001b[1;32m     30\u001b[0m                 \u001b[0;32mif\u001b[0m \u001b[0momit_f\u001b[0m \u001b[0;32mand\u001b[0m \u001b[0msym\u001b[0m \u001b[0;34m==\u001b[0m \u001b[0;34m\"F\"\u001b[0m\u001b[0;34m:\u001b[0m \u001b[0;32mcontinue\u001b[0m\u001b[0;34m\u001b[0m\u001b[0m\n",
      "\u001b[0;31mAttributeError\u001b[0m: 'numpy.ndarray' object has no attribute 'atno'"
     ]
    }
   ],
   "source": [
    "from PyQuante import Molecule\n",
    "from PyQuante.Ints import getbasis, getS\n",
    "\n",
    "bs='STO-3G'\n",
    "bfs = getbasis(benzene,basis_data=bs)\n",
    "\n",
    "#have a problem here -- not formatted exactly right \n",
    "    #the problem seems to lie in the xyz coordinates \n",
    "    #need to be in parentheses? "
   ]
  },
  {
   "cell_type": "code",
   "execution_count": null,
   "metadata": {},
   "outputs": [],
   "source": []
  },
  {
   "cell_type": "code",
   "execution_count": 332,
   "metadata": {},
   "outputs": [
    {
     "name": "stdout",
     "output_type": "stream",
     "text": [
      "[[-1.3551  2.0086 -6.1751]\n",
      " [-1.9456  0.8077 -5.7669]\n",
      " [-1.7261  0.3249 -4.4723]\n",
      " [-0.9162  1.0429 -3.5859]\n",
      " [-0.5452  2.7266 -5.2886]\n",
      " [-0.3258  2.2438 -3.994 ]\n",
      " [-0.0884  3.6557 -5.6044]\n",
      " [-1.5249  2.3822 -7.1766]\n",
      " [-0.7464  0.6693 -2.5843]\n",
      " [ 0.3008  2.7993 -3.3082]\n",
      " [-2.5721  0.2523 -6.4527]\n",
      " [-2.1829 -0.6041 -4.1566]]\n",
      "[[0. 1. 0.]\n",
      " [0. 0. 0.]\n",
      " [0. 0. 0.]\n",
      " [0. 0. 0.]\n",
      " [0. 1. 0.]\n",
      " [0. 1. 0.]\n",
      " [0. 1. 0.]\n",
      " [0. 1. 0.]\n",
      " [0. 0. 0.]\n",
      " [0. 1. 0.]\n",
      " [0. 0. 0.]\n",
      " [0. 0. 0.]]\n"
     ]
    }
   ],
   "source": [
    "#need to create an array of only xyz coordinates (no labels) in order to make connectivity matrix\n",
    "\n",
    "coord = []\n",
    "\n",
    "with open('benzene.xyz','r') as input2:\n",
    "    text = input2.readlines()\n",
    "    number_of_atoms = int( text[0].split()[0])\n",
    "    for i in range(2,len(text)):\n",
    "        (atom,x,y,z)=text[i].split()\n",
    "        atoms.append(atom)\n",
    "        coord.append([float(x),float(y),float(z)])\n",
    "coord=np.array(coord)\n",
    "print(coord)\n",
    "\n",
    "#masking gives true/false according to the criteria\n",
    "masking = coord > 1.2\n",
    "#print(masking)\n",
    "coord[masking]\n",
    "\n",
    "#give an array of the same size with each element=0\n",
    "connectivity = np.zeros_like(coord)\n",
    "#print(connectivity)\n",
    "\n",
    "#show 1 if each element fits the masking criteria \n",
    "connectivity[masking]=1\n",
    "print(connectivity)\n"
   ]
  },
  {
   "cell_type": "code",
   "execution_count": 333,
   "metadata": {},
   "outputs": [
    {
     "data": {
      "text/plain": [
       "array([[-1.3551,  2.0086, -6.1751],\n",
       "       [-1.9456,  0.8077, -5.7669],\n",
       "       [-1.7261,  0.3249, -4.4723],\n",
       "       [-0.9162,  1.0429, -3.5859],\n",
       "       [-0.5452,  2.7266, -5.2886],\n",
       "       [-0.3258,  2.2438, -3.994 ],\n",
       "       [-0.0884,  3.6557, -5.6044],\n",
       "       [-1.5249,  2.3822, -7.1766],\n",
       "       [-0.7464,  0.6693, -2.5843],\n",
       "       [ 0.3008,  2.7993, -3.3082],\n",
       "       [-2.5721,  0.2523, -6.4527],\n",
       "       [-2.1829, -0.6041, -4.1566]])"
      ]
     },
     "execution_count": 333,
     "metadata": {},
     "output_type": "execute_result"
    }
   ],
   "source": [
    "coord"
   ]
  },
  {
   "cell_type": "code",
   "execution_count": 334,
   "metadata": {},
   "outputs": [],
   "source": [
    "# np.split(coord,len(coord))\n",
    "    # how can i manipulate each of these individual arrays? \n"
   ]
  },
  {
   "cell_type": "code",
   "execution_count": 316,
   "metadata": {},
   "outputs": [
    {
     "ename": "NameError",
     "evalue": "name 'coord1' is not defined",
     "output_type": "error",
     "traceback": [
      "\u001b[0;31m---------------------------------------------------------------------------\u001b[0m",
      "\u001b[0;31mNameError\u001b[0m                                 Traceback (most recent call last)",
      "\u001b[0;32m<ipython-input-316-ee4dc7f1c379>\u001b[0m in \u001b[0;36m<module>\u001b[0;34m()\u001b[0m\n\u001b[1;32m      1\u001b[0m \u001b[0;31m#need to separate each split as its own named array\u001b[0m\u001b[0;34m\u001b[0m\u001b[0;34m\u001b[0m\u001b[0m\n\u001b[1;32m      2\u001b[0m \u001b[0;34m\u001b[0m\u001b[0m\n\u001b[0;32m----> 3\u001b[0;31m \u001b[0mdistance\u001b[0m \u001b[0;34m=\u001b[0m \u001b[0msp\u001b[0m\u001b[0;34m.\u001b[0m\u001b[0mdistance\u001b[0m\u001b[0;34m.\u001b[0m\u001b[0mcdist\u001b[0m\u001b[0;34m(\u001b[0m\u001b[0mcoord1\u001b[0m\u001b[0;34m,\u001b[0m\u001b[0mcoord2\u001b[0m\u001b[0;34m,\u001b[0m\u001b[0;34m'euclidean'\u001b[0m\u001b[0;34m)\u001b[0m\u001b[0;34m\u001b[0m\u001b[0m\n\u001b[0m\u001b[1;32m      4\u001b[0m \u001b[0;31m#from huckel @ muammar\u001b[0m\u001b[0;34m\u001b[0m\u001b[0;34m\u001b[0m\u001b[0m\n",
      "\u001b[0;31mNameError\u001b[0m: name 'coord1' is not defined"
     ]
    }
   ],
   "source": [
    "#need to separate each split as its own named array\n",
    "\n",
    "distance = sp.distance.cdist(C1,C2,'euclidean')\n",
    "#from huckel @ muammar"
   ]
  },
  {
   "cell_type": "code",
   "execution_count": 295,
   "metadata": {
    "scrolled": true
   },
   "outputs": [
    {
     "ename": "SyntaxError",
     "evalue": "'return' outside function (<ipython-input-295-b9ce2dd98e2f>, line 5)",
     "output_type": "error",
     "traceback": [
      "\u001b[0;36m  File \u001b[0;32m\"<ipython-input-295-b9ce2dd98e2f>\"\u001b[0;36m, line \u001b[0;32m5\u001b[0m\n\u001b[0;31m    return\u001b[0m\n\u001b[0;31mSyntaxError\u001b[0m\u001b[0;31m:\u001b[0m 'return' outside function\n"
     ]
    }
   ],
   "source": [
    "#here you should calculate the distance between each carbon with a for loop:\n",
    "    #sqrt([xi-x0]**2 + [yi-y0]**2 + [zi-z0]**2)\n",
    "\n",
    "for i in benzene:\n",
    "    return \n",
    "    \n",
    "#look at huckel/huckel.py at master * muammar/huckel on GitHub\n",
    "    #line 125 and down should be helpful"
   ]
  },
  {
   "cell_type": "code",
   "execution_count": 296,
   "metadata": {},
   "outputs": [],
   "source": [
    "#alpha is equal to the coulomb integral Hii\n",
    "#beta is equal to the resonance integrals between neighboring atoms\n",
    "\n",
    "\n",
    "#if i=j then H = alpha\n",
    "#if i=/=j then H = beta (adjacent atoms)\n",
    "#if non-adjacent then H = 0"
   ]
  },
  {
   "cell_type": "code",
   "execution_count": 297,
   "metadata": {},
   "outputs": [],
   "source": [
    "#for the overlap matrices (if you decide to do this)\n",
    "import scipy.linalg as la\n",
    "\n",
    "#S_1 = la.inv(P)\n",
    "#print(S_1)"
   ]
  },
  {
   "cell_type": "code",
   "execution_count": 275,
   "metadata": {},
   "outputs": [],
   "source": [
    "#with a defined secular equation, solve for eigenvalues and eigenvectors with:\n",
    "\n",
    "#\"evals, evecs = eig(A)\" where A is the array\n"
   ]
  },
  {
   "cell_type": "code",
   "execution_count": null,
   "metadata": {},
   "outputs": [],
   "source": []
  }
 ],
 "metadata": {
  "kernelspec": {
   "display_name": "Python 2",
   "language": "python",
   "name": "python2"
  },
  "language_info": {
   "codemirror_mode": {
    "name": "ipython",
    "version": 2
   },
   "file_extension": ".py",
   "mimetype": "text/x-python",
   "name": "python",
   "nbconvert_exporter": "python",
   "pygments_lexer": "ipython2",
   "version": "2.7.16"
  }
 },
 "nbformat": 4,
 "nbformat_minor": 2
}
